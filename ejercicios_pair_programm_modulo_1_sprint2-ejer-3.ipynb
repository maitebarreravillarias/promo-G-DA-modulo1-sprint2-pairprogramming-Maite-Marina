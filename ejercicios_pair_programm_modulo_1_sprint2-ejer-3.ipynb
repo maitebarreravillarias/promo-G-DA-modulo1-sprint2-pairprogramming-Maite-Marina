{
 "cells": [
  {
   "cell_type": "markdown",
   "metadata": {},
   "source": [
    "1. Crear una clase para gestionar información de los empleados de la empresa."
   ]
  },
  {
   "cell_type": "code",
   "execution_count": 12,
   "metadata": {},
   "outputs": [],
   "source": [
    "from datetime import datetime\n",
    "\n",
    "class Empleados:\n",
    "    \n",
    "    def __init__(self, nombre, apellidos, edad, posicion, año, vacaciones, herramientas):\n",
    "        self.nombre = nombre\n",
    "        self.apellidos = apellidos\n",
    "        self.edad = edad\n",
    "        self.posicion = posicion\n",
    "        self.año = año\n",
    "        self.vacaciones = vacaciones\n",
    "        self.herramientas = herramientas\n",
    "        \n",
    "    def descripcion(self):\n",
    "        \n",
    "        return f\"Datos del empleado: {self.nombre}, {self.apellidos}, actualmente {self.posicion}, se incorporó a la empresa en {self.año}, y le quedan {self.vacaciones} días de vacaciones.\"    \n",
    "    \n",
    "    def cambiando_posicion(self):\n",
    "        \n",
    "        if not isinstance(self.herramientas , list): # Condicional para el caso de que el empleado introdujera sólo 1 herramienta en lugar de una lista de herramientas\n",
    "            \n",
    "            self.herramientas = [self.herramientas] # En caso de ser sólo una herramienta, la convierte a lista para que la función opere con normalidad\n",
    "        \n",
    "            for herramienta in self.herramientas:\n",
    "                \n",
    "                if herramienta.lower() == \"python\":\n",
    "                    print(\"Ole por ti, sigue usando Python.\")\n",
    "                    \n",
    "                elif herramienta.lower() == \"excel\":\n",
    "                    print(\"A ver si aprendemos Python de una vez.\")\n",
    "    \n",
    "    def calcular_antiguedad(self):\n",
    "        \n",
    "        fecha_actual = datetime.now()\n",
    "        antiguedad = fecha_actual.year - self.año\n",
    "        \n",
    "        return f\"{self.nombre} {self.apellidos} lleva {antiguedad} años y {fecha_actual.month} meses en la empresa.\"\n",
    "    \n",
    "    def solicitar_aumento_vacaciones(self,dias_solicitados):\n",
    "        \n",
    "        if dias_solicitados > 0:\n",
    "            self.vacaciones += dias_solicitados\n",
    "            print(f\"Tu solicitud ha sido aprobada. Tienes {self.vacaciones} días disponibles.\")\n",
    "            \n",
    "        else:\n",
    "            print(\"Introduce un número válido de vacaciones\")\n",
    "            \n",
    "    def registrar_herramienta(self, herramienta):    \n",
    "        \n",
    "        if herramienta.lower() not in self.herramientas:\n",
    "            self.herramientas.append(herramienta.lower())\n",
    "            print(f\"La herramienta {herramienta} se ha añadido correctamente.\")\n",
    "            \n",
    "        else:\n",
    "            print(\"Ya estaba registrada esa herramienta.\")\n",
    "            \n",
    "    def cambiar_posicion (self , nueva_posicion , nuevo_salario):\n",
    "        \n",
    "        self.posicion = nueva_posicion\n",
    "        self.salario = nuevo_salario\n",
    "        \n",
    "        print(f\"Tu nueva posición se ha actualizado correctamente a: {nueva_posicion}.\")\n",
    "        print(f\"Nuevo salario: {nuevo_salario}€.\")\n",
    "        \n",
    "    def tomar_vacaciones (self):\n",
    "        \n",
    "        while True:\n",
    "            try:\n",
    "                dias_pedidos = int(input(\"Indica cuántos días de vacaciones quieres pedir\").strip())\n",
    "                \n",
    "                if dias_pedidos <= 0:\n",
    "                    print(f\"Tienes que introducir un número mayor que 0.\")\n",
    "                        \n",
    "                else:\n",
    "                    break\n",
    "\n",
    "            except:\n",
    "                print(f\"Parece que ha habido un error. Por favor, escribe un número válido.\") \n",
    "        \n",
    "        if dias_pedidos <= self.vacaciones:\n",
    "            \n",
    "            self.vacaciones -= dias_pedidos\n",
    "            print(f\"Tu solicitud se ha procesado correctamente.\")\n",
    "            print(f\"Días de vacaciones pedidos: {dias_pedidos}.\")\n",
    "            print(f\"Actualización de días disponibles: {self.vacaciones}.\")\n",
    "            \n",
    "        else:\n",
    "            \n",
    "            print(f\"No tienes suficientes días de vacaciones para procesar la solicitud.\")\n",
    "            print(f\"Tus días de vacaciones disponibles son: {self.vacaciones}.\")\n",
    "    \n",
    "    def solicitar_aumento_salario (self):\n",
    "        \n",
    "        while True:\n",
    "            try:\n",
    "                porcentaje = float(input(\"Indica el porcentaje de subida en el que estás interesado (p.e: 10.5%)\").replace(\"%\" , \"\").strip())\n",
    "                \n",
    "                if porcentaje <= 0:\n",
    "                    print(f\"Tienes que introducir un número mayor que 0.\")\n",
    "                        \n",
    "                else:\n",
    "                    break\n",
    "\n",
    "            except:\n",
    "                print(f\"Parece que ha habido un error. Por favor, escribe un número válido (p.e: 10.5%).\") \n",
    "        \n",
    "        porcentaje_salario = porcentaje/100\n",
    "        \n",
    "        self.salario += self.salario * porcentaje_salario\n",
    "        \n",
    "        return f\"Tu solicitud se ha procesado correctamente. Tras aplicar la subida de {porcentaje}%, tu salario se ha actualizado a: {self.salario}€.\"\n",
    "    \n",
    "    def realizar_evaluacion (self):\n",
    "        \n",
    "        opciones_validas = [\"excelente\" , \"bueno\" , \"regular\" , \"malo\"]\n",
    "        retroalimentacion = {\"excelente\" : \"¡Eres todo un modelo a seguir! Estamos muy felices de contar contigo.\" , \"bueno\" : \"Estamos muy contentos con tu trabajo, ¡gracias por tu esfuerzo!\" , \"regular\" : \"Lo haces bien, pero estamos seguros de que con un poco más de esfuerzo irás aún mejor.\" , \"malo\" : \"No te desanimes y sigue trabajando duro. Seguro que podrás mejorar.\"}\n",
    "        \n",
    "        while True:\n",
    "            \n",
    "            evaluacion = input(\"¿Cómo calificarías tu trabajo? Escoge entre: excelente - bueno - regular - malo\".lower().strip())\n",
    "            \n",
    "            if evaluacion not in opciones_validas:\n",
    "                \n",
    "                print(f\"Tienes que introducir una calificación válida.\")\n",
    "                \n",
    "            else:\n",
    "                break\n",
    "            \n",
    "        return f\"{retroalimentacion[evaluacion]}\"\n",
    "        "
   ]
  },
  {
   "cell_type": "code",
   "execution_count": 13,
   "metadata": {},
   "outputs": [],
   "source": [
    "empleado1 = Empleados('Empleado1' , 'Apellido1' , 35 , 'Posicion1' , 2020 , 0 , 'Excel')"
   ]
  },
  {
   "cell_type": "markdown",
   "metadata": {},
   "source": [
    "Descripción"
   ]
  },
  {
   "cell_type": "code",
   "execution_count": 14,
   "metadata": {},
   "outputs": [
    {
     "data": {
      "text/plain": [
       "'Datos del empleado: Empleado1, Apellido1, actualmente Posicion1, se incorporó a la empresa en 2020, y le quedan 0 días de vacaciones.'"
      ]
     },
     "execution_count": 14,
     "metadata": {},
     "output_type": "execute_result"
    }
   ],
   "source": [
    "empleado1.descripcion()"
   ]
  },
  {
   "cell_type": "markdown",
   "metadata": {},
   "source": [
    "Cambiando posición"
   ]
  },
  {
   "cell_type": "code",
   "execution_count": 15,
   "metadata": {},
   "outputs": [
    {
     "name": "stdout",
     "output_type": "stream",
     "text": [
      "A ver si aprendemos Python de una vez.\n"
     ]
    }
   ],
   "source": [
    "empleado1.cambiando_posicion()"
   ]
  },
  {
   "cell_type": "markdown",
   "metadata": {},
   "source": [
    "Calcular antiguedad"
   ]
  },
  {
   "cell_type": "code",
   "execution_count": 16,
   "metadata": {},
   "outputs": [
    {
     "data": {
      "text/plain": [
       "'Empleado1 Apellido1 lleva 4 años y 2 meses en la empresa.'"
      ]
     },
     "execution_count": 16,
     "metadata": {},
     "output_type": "execute_result"
    }
   ],
   "source": [
    "empleado1.calcular_antiguedad()"
   ]
  },
  {
   "cell_type": "markdown",
   "metadata": {},
   "source": [
    "Solicitar aumento de días de vacaciones"
   ]
  },
  {
   "cell_type": "code",
   "execution_count": 17,
   "metadata": {},
   "outputs": [
    {
     "name": "stdout",
     "output_type": "stream",
     "text": [
      "Tu solicitud ha sido aprobada. Tienes 10 días disponibles.\n"
     ]
    }
   ],
   "source": [
    "empleado1.solicitar_aumento_vacaciones(10)"
   ]
  },
  {
   "cell_type": "markdown",
   "metadata": {},
   "source": [
    "Registrar una herramienta"
   ]
  },
  {
   "cell_type": "code",
   "execution_count": 18,
   "metadata": {},
   "outputs": [
    {
     "name": "stdout",
     "output_type": "stream",
     "text": [
      "La herramienta Java se ha añadido correctamente.\n"
     ]
    }
   ],
   "source": [
    "empleado1.registrar_herramienta('Java')"
   ]
  },
  {
   "cell_type": "markdown",
   "metadata": {},
   "source": [
    "Cambiar de posición"
   ]
  },
  {
   "cell_type": "code",
   "execution_count": 19,
   "metadata": {},
   "outputs": [
    {
     "name": "stdout",
     "output_type": "stream",
     "text": [
      "Tu nueva posición se ha actualizado correctamente a: Posicion2.\n",
      "Nuevo salario: 25000€.\n"
     ]
    }
   ],
   "source": [
    "empleado1.cambiar_posicion('Posicion2' , 25000)"
   ]
  },
  {
   "cell_type": "markdown",
   "metadata": {},
   "source": [
    "Tomar días de vacaciones"
   ]
  },
  {
   "cell_type": "code",
   "execution_count": 20,
   "metadata": {},
   "outputs": [
    {
     "name": "stdout",
     "output_type": "stream",
     "text": [
      "Tu solicitud se ha procesado correctamente.\n",
      "Días de vacaciones pedidos: 7.\n",
      "Actualización de días disponibles: 3.\n"
     ]
    }
   ],
   "source": [
    "empleado1.tomar_vacaciones()"
   ]
  },
  {
   "cell_type": "code",
   "execution_count": 21,
   "metadata": {},
   "outputs": [
    {
     "name": "stdout",
     "output_type": "stream",
     "text": [
      "Parece que ha habido un error. Por favor, escribe un número válido.\n",
      "No tienes suficientes días de vacaciones para procesar la solicitud.\n",
      "Tus días de vacaciones disponibles son: 3.\n"
     ]
    }
   ],
   "source": [
    "empleado1.tomar_vacaciones()"
   ]
  },
  {
   "cell_type": "markdown",
   "metadata": {},
   "source": [
    "Solicitar aumento de salario"
   ]
  },
  {
   "cell_type": "code",
   "execution_count": 22,
   "metadata": {},
   "outputs": [
    {
     "name": "stdout",
     "output_type": "stream",
     "text": [
      "Parece que ha habido un error. Por favor, escribe un número válido (p.e: 10.5%).\n"
     ]
    },
    {
     "data": {
      "text/plain": [
       "'Tu solicitud se ha procesado correctamente. Tras aplicar la subida de 3.5%, tu salario se ha actualizado a: 25875.0€.'"
      ]
     },
     "execution_count": 22,
     "metadata": {},
     "output_type": "execute_result"
    }
   ],
   "source": [
    "empleado1.solicitar_aumento_salario()"
   ]
  },
  {
   "cell_type": "markdown",
   "metadata": {},
   "source": [
    "Realizar evaluación"
   ]
  },
  {
   "cell_type": "code",
   "execution_count": 23,
   "metadata": {},
   "outputs": [
    {
     "data": {
      "text/plain": [
       "'¡Eres todo un modelo a seguir! Estamos muy felices de contar contigo.'"
      ]
     },
     "execution_count": 23,
     "metadata": {},
     "output_type": "execute_result"
    }
   ],
   "source": [
    "empleado1.realizar_evaluacion()"
   ]
  },
  {
   "cell_type": "markdown",
   "metadata": {},
   "source": [
    "2. Crear una herencia de la clase del ejercicio anterior. La clase hija se llamara 'Gerente'."
   ]
  },
  {
   "cell_type": "code",
   "execution_count": 5,
   "metadata": {},
   "outputs": [],
   "source": [
    "class Gerente (Empleados): \n",
    "    \n",
    "    def __init__ (self , departamento , empleados_a_cargo = []):\n",
    "        \n",
    "        self.departamento = departamento\n",
    "        self.empleados_a_cargo = empleados_a_cargo\n",
    "        \n",
    "    def asignar_tareas (self, tarea , empleado): \n",
    "        \n",
    "        if empleado in self.empleados_a_cargo:\n",
    "        \n",
    "            return f\"Se ha asignado correctamente '{tarea}' a {empleado.capitalize()}.\"\n",
    "        \n",
    "        return f\"No se puede asignar una tarea a {empleado.capitalize()} ya que no se encuentra en la lista de empleados a cargo.\"\n",
    "    \n",
    "    def revisar_desempeno_empleado (self , empleado):\n",
    "        \n",
    "        if empleado in self.empleados_a_cargo:\n",
    "        \n",
    "            return f\"{empleado.capitalize()} está actualmente en revisión de desempeño.\"\n",
    "        \n",
    "        return f\"No se puede revisar el desempeño de {empleado.capitalize()} ya que no se encuentra en la lista de empleados a cargo.\"\n",
    "        \n",
    "    \n",
    "    def gestionar_empleados (self , accion , empleado): \n",
    "        \n",
    "        accion = accion.lower().strip()\n",
    "        \n",
    "        if accion == 'contratar':\n",
    "            \n",
    "            self.empleados_a_cargo.append(empleado)\n",
    "            print(f\"{empleado.capitalize()} ha sido contratado y añadido a la lista de empleados a cargo.\")\n",
    "        \n",
    "        elif accion == 'despedir':\n",
    "            \n",
    "            self.empleados_a_cargo.remove(empleado)\n",
    "            print(f\"{empleado.capitalize()} ha sido despedido y eliminado de la lista de empleados a cargo.\")\n",
    "            \n",
    "        else:\n",
    "            print(f\"Por favor introduce un elemento válido: contratar/despedir\")       "
   ]
  },
  {
   "cell_type": "code",
   "execution_count": 6,
   "metadata": {},
   "outputs": [],
   "source": [
    "gerente1 = Gerente('departamento1' , ['Empleado1' , 'Empleado2'])"
   ]
  },
  {
   "cell_type": "markdown",
   "metadata": {},
   "source": [
    "Asignar tareas"
   ]
  },
  {
   "cell_type": "code",
   "execution_count": 7,
   "metadata": {},
   "outputs": [
    {
     "data": {
      "text/plain": [
       "'No se puede asignar una tarea a Empleado3 ya que no se encuentra en la lista de empleados a cargo.'"
      ]
     },
     "execution_count": 7,
     "metadata": {},
     "output_type": "execute_result"
    }
   ],
   "source": [
    "gerente1.asignar_tareas('Revisar la última entrega de cargamento' , 'Empleado3')"
   ]
  },
  {
   "cell_type": "code",
   "execution_count": 8,
   "metadata": {},
   "outputs": [
    {
     "data": {
      "text/plain": [
       "\"Se ha asignado correctamente 'Revisar la última entrega de cargamento' a Empleado1.\""
      ]
     },
     "execution_count": 8,
     "metadata": {},
     "output_type": "execute_result"
    }
   ],
   "source": [
    "gerente1.asignar_tareas('Revisar la última entrega de cargamento' , 'Empleado1')"
   ]
  },
  {
   "cell_type": "markdown",
   "metadata": {},
   "source": [
    "Revisar el desempeño de un empleado"
   ]
  },
  {
   "cell_type": "code",
   "execution_count": 9,
   "metadata": {},
   "outputs": [
    {
     "data": {
      "text/plain": [
       "'Empleado2 está actualmente en revisión de desempeño.'"
      ]
     },
     "execution_count": 9,
     "metadata": {},
     "output_type": "execute_result"
    }
   ],
   "source": [
    "gerente1.revisar_desempeno_empleado('Empleado2')"
   ]
  },
  {
   "cell_type": "markdown",
   "metadata": {},
   "source": [
    "Gestionar empleados (contratación o despido)"
   ]
  },
  {
   "cell_type": "code",
   "execution_count": 10,
   "metadata": {},
   "outputs": [
    {
     "name": "stdout",
     "output_type": "stream",
     "text": [
      "Empleado3 ha sido contratado y añadido a la lista de empleados a cargo.\n"
     ]
    }
   ],
   "source": [
    "gerente1.gestionar_empleados('contratar' , 'Empleado3')"
   ]
  },
  {
   "cell_type": "code",
   "execution_count": 11,
   "metadata": {},
   "outputs": [
    {
     "name": "stdout",
     "output_type": "stream",
     "text": [
      "Empleado2 ha sido despedido y eliminado de la lista de empleados a cargo.\n"
     ]
    }
   ],
   "source": [
    "gerente1.gestionar_empleados('despedir' , 'Empleado2')"
   ]
  }
 ],
 "metadata": {
  "kernelspec": {
   "display_name": "base",
   "language": "python",
   "name": "python3"
  },
  "language_info": {
   "codemirror_mode": {
    "name": "ipython",
    "version": 3
   },
   "file_extension": ".py",
   "mimetype": "text/x-python",
   "name": "python",
   "nbconvert_exporter": "python",
   "pygments_lexer": "ipython3",
   "version": "3.9.7"
  }
 },
 "nbformat": 4,
 "nbformat_minor": 2
}
