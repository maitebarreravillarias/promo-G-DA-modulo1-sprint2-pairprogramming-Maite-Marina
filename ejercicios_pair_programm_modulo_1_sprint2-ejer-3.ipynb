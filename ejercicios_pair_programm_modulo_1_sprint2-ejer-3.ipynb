{
 "cells": [
  {
   "cell_type": "code",
   "execution_count": null,
   "metadata": {},
   "outputs": [],
   "source": []
  },
  {
   "cell_type": "markdown",
   "metadata": {},
   "source": [
    "1. crear una clase para gestionar información de los empleados de la empresa\n",
    "caracteris\n",
    "\n",
    "clase empleados\n",
    "atributos = nombre, apellidos, edad, posición, año (y meses), vacaciones (cantidad dias quedan), herramientas\n",
    "constructor init atributos como parámetros \n",
    "\n",
    "personal / profesional \n",
    "\n",
    "métodos= \n",
    "metodo descripcion  incluyendo nombre, posición, vacaciones\n",
    "\n",
    "metodo cambiando_posicion verifica herramientas y devuelve un mensaje con sugerencias (python -- muy bien / excel --dejalo ya\n",
    "iterar las herramientas, evalue, busca python o excel )\n",
    "\n",
    "metodo calcular_antiguedad en años y meses ////librería datetime\n",
    "generar mensaje antiguedad\n",
    "\n",
    "metodo solicitar_aumento_vacaciones\n",
    "si la solicitud es válida actualiza las vacaciones\n",
    "generar mensaje confirmacion / manejar solicitudes no válidas ---tururu\n",
    "\n",
    "\n",
    "\n"
   ]
  },
  {
   "cell_type": "code",
   "execution_count": 4,
   "metadata": {},
   "outputs": [],
   "source": [
    "\n",
    "from datetime import datetime\n"
   ]
  },
  {
   "cell_type": "code",
   "execution_count": 2,
   "metadata": {},
   "outputs": [],
   "source": [
    "\n",
    "\n",
    "class Empleados:\n",
    "    def __init__(self, nombre, apellidos, edad, posicion, año, vacaciones, herramientas):\n",
    "        self.nombre = nombre\n",
    "        self.apellidos = apellidos\n",
    "        self.edad = edad\n",
    "        self.posicion = posicion\n",
    "        self.año = año\n",
    "        self.vacaciones = vacaciones\n",
    "        self.herramientas = herramientas\n",
    "        \n",
    "    def descripcion(self):\n",
    "        return f\"Datos del empleado: {self.nombre}, {self.apellidos}, actualmente {self.posicion}, se incorporó a la empresa en {self.año}, y le quedan {self.vacaciones} días de vacaciones\"    \n",
    "    \n",
    "    def cambiando_posicion(self):\n",
    "        for herramienta in self.herramientas:\n",
    "            if herramienta.lower() == \"python\":\n",
    "                print(\"ole por ti, sigue usando Python\")\n",
    "            elif herramienta.lower() == \"excel\":\n",
    "                print(\"A ver si aprendemos Python de una vez\")\n",
    "        return herramienta\n",
    "    \n",
    "    def calcular_antiguedad(self):\n",
    "        fecha_actual = datetime.now()\n",
    "        antiguedad = fecha_actual.year - self.año\n",
    "        return f\"{self.nombre} {self.apellidos} lleva {antiguedad} años y {fecha_actual.month} meses en la empresa\""
   ]
  }
 ],
 "metadata": {
  "kernelspec": {
   "display_name": "base",
   "language": "python",
   "name": "python3"
  },
  "language_info": {
   "codemirror_mode": {
    "name": "ipython",
    "version": 3
   },
   "file_extension": ".py",
   "mimetype": "text/x-python",
   "name": "python",
   "nbconvert_exporter": "python",
   "pygments_lexer": "ipython3",
   "version": "3.9.7"
  }
 },
 "nbformat": 4,
 "nbformat_minor": 2
}
