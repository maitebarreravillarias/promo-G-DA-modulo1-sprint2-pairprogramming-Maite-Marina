{
 "cells": [
  {
   "cell_type": "markdown",
   "metadata": {},
   "source": [
    "1. Crear una clase para gestionar información de los empleados de la empresa\n",
    "\n",
    "Características:\n",
    "\n",
    "clase empleados\n",
    "atributos = nombre, apellidos, edad, posición, año (y meses), vacaciones (cantidad dias quedan), herramientas\n",
    "constructor init atributos como parámetros \n",
    "\n",
    "personal / profesional \n",
    "\n",
    "métodos= \n",
    "metodo descripcion  incluyendo nombre, posición, vacaciones\n",
    "\n",
    "metodo cambiando_posicion verifica herramientas y devuelve un mensaje con sugerencias (python -- muy bien / excel --dejalo ya\n",
    "iterar las herramientas, evalue, busca python o excel )\n",
    "\n",
    "metodo calcular_antiguedad en años y meses ////librería datetime\n",
    "generar mensaje antiguedad\n",
    "\n",
    "metodo solicitar_aumento_vacaciones\n",
    "si la solicitud es válida actualiza las vacaciones\n",
    "generar mensaje confirmacion / manejar solicitudes no válidas ---tururu\n",
    "\n",
    "método registrar_herramienta\n",
    "permite registrar una nueva herramienta si no lo está. verificar que no está, agregarla, generar un mensaje avisando que ya existe. \n",
    "\n",
    "\n",
    "\n"
   ]
  },
  {
   "cell_type": "code",
   "execution_count": 1,
   "metadata": {},
   "outputs": [],
   "source": [
    "from datetime import datetime\n",
    "\n",
    "class Empleados:\n",
    "    \n",
    "    def __init__(self, nombre, apellidos, edad, posicion, año, vacaciones, herramientas):\n",
    "        self.nombre = nombre\n",
    "        self.apellidos = apellidos\n",
    "        self.edad = edad\n",
    "        self.posicion = posicion\n",
    "        self.año = año\n",
    "        self.vacaciones = vacaciones\n",
    "        self.herramientas = herramientas\n",
    "        \n",
    "    def descripcion(self):\n",
    "        \n",
    "        return f\"Datos del empleado: {self.nombre}, {self.apellidos}, actualmente {self.posicion}, se incorporó a la empresa en {self.año}, y le quedan {self.vacaciones} días de vacaciones.\"    \n",
    "    \n",
    "    def cambiando_posicion(self):\n",
    "        \n",
    "        if not isinstance(self.herramientas , list): # Condicional para el caso de que el empleado introdujera sólo 1 herramienta en lugar de una lista de herramientas\n",
    "            \n",
    "            self.herramientas = [self.herramientas] # En caso de ser sólo una herramienta, la convierte a lista para que la función opere con normalidad\n",
    "        \n",
    "            for herramienta in self.herramientas:\n",
    "                \n",
    "                if herramienta.lower() == \"python\":\n",
    "                    print(\"Ole por ti, sigue usando Python.\")\n",
    "                    \n",
    "                elif herramienta.lower() == \"excel\":\n",
    "                    print(\"A ver si aprendemos Python de una vez.\")\n",
    "    \n",
    "    def calcular_antiguedad(self):\n",
    "        \n",
    "        fecha_actual = datetime.now()\n",
    "        antiguedad = fecha_actual.year - self.año\n",
    "        \n",
    "        return f\"{self.nombre} {self.apellidos} lleva {antiguedad} años y {fecha_actual.month} meses en la empresa.\"\n",
    "    \n",
    "    def solicitar_aumento_vacaciones(self,dias_solicitados):\n",
    "        \n",
    "        if dias_solicitados > 0:\n",
    "            self.vacaciones += dias_solicitados\n",
    "            print(f\"Tu solicitud ha sido aprobada. Tienes {self.vacaciones} días disponibles.\")\n",
    "            \n",
    "        else:\n",
    "            print(\"Introduce un número válido de vacaciones\")\n",
    "            \n",
    "    def registrar_herramienta(self, herramienta):    \n",
    "        \n",
    "        if herramienta.lower() not in self.herramientas:\n",
    "            self.herramientas.append(herramienta.lower())\n",
    "            print(f\"La herramienta {herramienta} se ha añadido correctamente.\")\n",
    "            \n",
    "        else:\n",
    "            print(\"Ya estaba registrada esa herramienta.\")\n",
    "            \n",
    "    def cambiar_posicion (self , nueva_posicion , nuevo_salario):\n",
    "        \n",
    "        self.posicion = nueva_posicion\n",
    "        self.salario = nuevo_salario\n",
    "        \n",
    "        print(f\"Tu nueva posición se ha actualizado correctamente a: {nueva_posicion}.\")\n",
    "        print(f\"Nuevo salario: {nuevo_salario}€.\")\n",
    "        \n",
    "    def tomar_vacaciones (self):\n",
    "        \n",
    "        while True:\n",
    "            try:\n",
    "                dias_pedidos = int(input(\"Indica cuántos días de vacaciones quieres pedir\").strip())\n",
    "                \n",
    "                if dias_pedidos <= 0:\n",
    "                    print(f\"Tienes que introducir un número mayor que 0.\")\n",
    "                        \n",
    "                else:\n",
    "                    break\n",
    "\n",
    "            except:\n",
    "                print(f\"Parece que ha habido un error. Por favor, escribe un número válido.\") \n",
    "        \n",
    "        if dias_pedidos <= self.vacaciones:\n",
    "            \n",
    "            self.vacaciones -= dias_pedidos\n",
    "            print(f\"Tu solicitud se ha procesado correctamente.\")\n",
    "            print(f\"Días de vacaciones pedidos: {dias_pedidos}.\")\n",
    "            print(f\"Actualización de días disponibles: {self.vacaciones}.\")\n",
    "            \n",
    "        else:\n",
    "            \n",
    "            print(f\"No tienes suficientes días de vacaciones para procesar la solicitud.\")\n",
    "            print(f\"Tus días de vacaciones disponibles son: {self.vacaciones}.\")\n",
    "    \n",
    "    def solicitar_aumento_salario (self):\n",
    "        \n",
    "        while True:\n",
    "            try:\n",
    "                porcentaje = float(input(\"Indica el porcentaje de subida en el que estás interesado (p.e: 10.5%)\").replace(\"%\" , \"\").strip())\n",
    "                \n",
    "                if porcentaje <= 0:\n",
    "                    print(f\"Tienes que introducir un número mayor que 0.\")\n",
    "                        \n",
    "                else:\n",
    "                    break\n",
    "\n",
    "            except:\n",
    "                print(f\"Parece que ha habido un error. Por favor, escribe un número válido (p.e: 10.5%).\") \n",
    "        \n",
    "        porcentaje_salario = porcentaje/100\n",
    "        \n",
    "        self.salario += self.salario * porcentaje_salario\n",
    "        \n",
    "        return f\"Tu solicitud se ha procesado correctamente. Tras aplicar la subida de {porcentaje}%, tu salario se ha actualizado a: {self.salario}€.\"\n",
    "    \n",
    "    def realizar_evaluacion (self):\n",
    "        \n",
    "        opciones_validas = [\"excelente\" , \"bueno\" , \"regular\" , \"malo\"]\n",
    "        retroalimentacion = {\"excelente\" : \"¡Eres todo un modelo a seguir! Estamos muy felices de contar contigo.\" , \"bueno\" : \"Estamos muy contentos con tu trabajo, ¡gracias por tu esfuerzo!\" , \"regular\" : \"Lo haces bien, pero estamos seguros de que con un poco más de esfuerzo irás aún mejor.\" , \"malo\" : \"No te desanimes y sigue trabajando duro. Seguro que podrás mejorar.\"}\n",
    "        \n",
    "        while True:\n",
    "            \n",
    "            evaluacion = input(\"¿Cómo calificarías tu trabajo? Escoge entre: excelente - bueno - regular - malo\".lower().strip())\n",
    "            \n",
    "            if evaluacion not in opciones_validas:\n",
    "                \n",
    "                print(f\"Tienes que introducir una calificación válida.\")\n",
    "                \n",
    "            else:\n",
    "                break\n",
    "            \n",
    "        return f\"{retroalimentacion[evaluacion]}\"\n",
    "        "
   ]
  },
  {
   "cell_type": "code",
   "execution_count": 2,
   "metadata": {},
   "outputs": [],
   "source": [
    "Empleado1 = Empleados('Empleado1' , 'Apellido1' , 35 , 'Posicion1' , 2020 , 0 , 'Excel')"
   ]
  },
  {
   "cell_type": "markdown",
   "metadata": {},
   "source": [
    "Descripción"
   ]
  },
  {
   "cell_type": "code",
   "execution_count": 3,
   "metadata": {},
   "outputs": [
    {
     "data": {
      "text/plain": [
       "'Datos del empleado: Empleado1, Apellido1, actualmente Posicion1, se incorporó a la empresa en 2020, y le quedan 0 días de vacaciones.'"
      ]
     },
     "execution_count": 3,
     "metadata": {},
     "output_type": "execute_result"
    }
   ],
   "source": [
    "Empleado1.descripcion()"
   ]
  },
  {
   "cell_type": "markdown",
   "metadata": {},
   "source": [
    "Cambiando posición"
   ]
  },
  {
   "cell_type": "code",
   "execution_count": 4,
   "metadata": {},
   "outputs": [
    {
     "name": "stdout",
     "output_type": "stream",
     "text": [
      "A ver si aprendemos Python de una vez.\n"
     ]
    }
   ],
   "source": [
    "Empleado1.cambiando_posicion()"
   ]
  },
  {
   "cell_type": "markdown",
   "metadata": {},
   "source": [
    "Calcular antiguedad"
   ]
  },
  {
   "cell_type": "code",
   "execution_count": 5,
   "metadata": {},
   "outputs": [
    {
     "data": {
      "text/plain": [
       "'Empleado1 Apellido1 lleva 4 años y 2 meses en la empresa.'"
      ]
     },
     "execution_count": 5,
     "metadata": {},
     "output_type": "execute_result"
    }
   ],
   "source": [
    "Empleado1.calcular_antiguedad()"
   ]
  },
  {
   "cell_type": "markdown",
   "metadata": {},
   "source": [
    "Solicitar aumento de días de vacaciones"
   ]
  },
  {
   "cell_type": "code",
   "execution_count": 6,
   "metadata": {},
   "outputs": [
    {
     "name": "stdout",
     "output_type": "stream",
     "text": [
      "Tu solicitud ha sido aprobada. Tienes 10 días disponibles.\n"
     ]
    }
   ],
   "source": [
    "Empleado1.solicitar_aumento_vacaciones(10)"
   ]
  },
  {
   "cell_type": "markdown",
   "metadata": {},
   "source": [
    "Registrar una herramienta"
   ]
  },
  {
   "cell_type": "code",
   "execution_count": 7,
   "metadata": {},
   "outputs": [
    {
     "name": "stdout",
     "output_type": "stream",
     "text": [
      "La herramienta Java se ha añadido correctamente.\n"
     ]
    }
   ],
   "source": [
    "Empleado1.registrar_herramienta('Java')"
   ]
  },
  {
   "cell_type": "markdown",
   "metadata": {},
   "source": [
    "Cambiar de posición"
   ]
  },
  {
   "cell_type": "code",
   "execution_count": 8,
   "metadata": {},
   "outputs": [
    {
     "name": "stdout",
     "output_type": "stream",
     "text": [
      "Tu nueva posición se ha actualizado correctamente a: Posicion2.\n",
      "Nuevo salario: 25000€.\n"
     ]
    }
   ],
   "source": [
    "Empleado1.cambiar_posicion('Posicion2' , 25000)"
   ]
  },
  {
   "cell_type": "markdown",
   "metadata": {},
   "source": [
    "Tomar días de vacaciones"
   ]
  },
  {
   "cell_type": "code",
   "execution_count": 9,
   "metadata": {},
   "outputs": [
    {
     "name": "stdout",
     "output_type": "stream",
     "text": [
      "Tu solicitud se ha procesado correctamente.\n",
      "Días de vacaciones pedidos: 7.\n",
      "Actualización de días disponibles: 3.\n"
     ]
    }
   ],
   "source": [
    "Empleado1.tomar_vacaciones()"
   ]
  },
  {
   "cell_type": "code",
   "execution_count": 10,
   "metadata": {},
   "outputs": [
    {
     "name": "stdout",
     "output_type": "stream",
     "text": [
      "Parece que ha habido un error. Por favor, escribe un número válido.\n",
      "Tienes que introducir un número mayor que 0.\n",
      "No tienes suficientes días de vacaciones para procesar la solicitud.\n",
      "Tus días de vacaciones disponibles son: 3.\n"
     ]
    }
   ],
   "source": [
    "Empleado1.tomar_vacaciones()"
   ]
  },
  {
   "cell_type": "markdown",
   "metadata": {},
   "source": [
    "Solicitar aumento de salario"
   ]
  },
  {
   "cell_type": "code",
   "execution_count": 11,
   "metadata": {},
   "outputs": [
    {
     "name": "stdout",
     "output_type": "stream",
     "text": [
      "Parece que ha habido un error. Por favor, escribe un número válido (p.e: 10.5%).\n",
      "Tienes que introducir un número mayor que 0.\n"
     ]
    },
    {
     "data": {
      "text/plain": [
       "'Tu solicitud se ha procesado correctamente. Tras aplicar la subida de 3.5%, tu salario se ha actualizado a: 25875.0€.'"
      ]
     },
     "execution_count": 11,
     "metadata": {},
     "output_type": "execute_result"
    }
   ],
   "source": [
    "Empleado1.solicitar_aumento_salario()"
   ]
  },
  {
   "cell_type": "markdown",
   "metadata": {},
   "source": [
    "Realizar evaluación"
   ]
  },
  {
   "cell_type": "code",
   "execution_count": 12,
   "metadata": {},
   "outputs": [
    {
     "data": {
      "text/plain": [
       "'Lo haces bien, pero estamos seguros de que con un poco más de esfuerzo irás aún mejor.'"
      ]
     },
     "execution_count": 12,
     "metadata": {},
     "output_type": "execute_result"
    }
   ],
   "source": [
    "Empleado1.realizar_evaluacion()"
   ]
  }
 ],
 "metadata": {
  "kernelspec": {
   "display_name": "base",
   "language": "python",
   "name": "python3"
  },
  "language_info": {
   "codemirror_mode": {
    "name": "ipython",
    "version": 3
   },
   "file_extension": ".py",
   "mimetype": "text/x-python",
   "name": "python",
   "nbconvert_exporter": "python",
   "pygments_lexer": "ipython3",
   "version": "3.9.7"
  }
 },
 "nbformat": 4,
 "nbformat_minor": 2
}
