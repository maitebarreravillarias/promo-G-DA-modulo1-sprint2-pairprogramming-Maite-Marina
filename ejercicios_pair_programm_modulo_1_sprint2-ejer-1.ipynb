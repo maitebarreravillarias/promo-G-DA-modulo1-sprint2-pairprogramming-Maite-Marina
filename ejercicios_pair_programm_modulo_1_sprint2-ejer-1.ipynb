{
 "cells": [
  {
   "cell_type": "markdown",
   "metadata": {},
   "source": [
    "1. imprimir números del 1 al 5 incluido con bucle for en orden ascendente"
   ]
  },
  {
   "cell_type": "code",
   "execution_count": 1,
   "metadata": {},
   "outputs": [
    {
     "name": "stdout",
     "output_type": "stream",
     "text": [
      "1\n",
      "2\n",
      "3\n",
      "4\n",
      "5\n"
     ]
    }
   ],
   "source": [
    "for num in range(1,6):\n",
    "    print(num)"
   ]
  },
  {
   "cell_type": "markdown",
   "metadata": {},
   "source": [
    "2. calcular suma de los primeros diez números naturales utilizando bucle for "
   ]
  },
  {
   "cell_type": "code",
   "execution_count": 2,
   "metadata": {},
   "outputs": [
    {
     "name": "stdout",
     "output_type": "stream",
     "text": [
      "la suma de los primeros diez números es 55\n"
     ]
    }
   ],
   "source": [
    "suma = 0\n",
    "for num in range(1,11):\n",
    "    suma += num\n",
    "print(f\"la suma de los primeros diez números es {suma}\")"
   ]
  },
  {
   "cell_type": "markdown",
   "metadata": {},
   "source": [
    "3. calcular el producto de los elementos de una lista, utilizando bucle for"
   ]
  },
  {
   "cell_type": "code",
   "execution_count": 1,
   "metadata": {},
   "outputs": [
    {
     "name": "stdout",
     "output_type": "stream",
     "text": [
      "el producto es 6\n"
     ]
    }
   ],
   "source": [
    "lista = [1, 2, 3]\n",
    "\n",
    "\n",
    "producto = 1\n",
    "for i in range(len(lista)):\n",
    "    producto = producto * lista[i]\n",
    "\n",
    "print(f\"el producto es {producto}\")"
   ]
  },
  {
   "cell_type": "markdown",
   "metadata": {},
   "source": [
    "4. imprimir los caracteres de una cadena de texto. dada una cadena utiliza un bucle for"
   ]
  },
  {
   "cell_type": "code",
   "execution_count": 5,
   "metadata": {},
   "outputs": [
    {
     "name": "stdout",
     "output_type": "stream",
     "text": [
      "p\n",
      "l\n",
      "a\n",
      "t\n",
      "e\n",
      "r\n",
      "o\n",
      " \n",
      "e\n",
      "s\n",
      " \n",
      "p\n",
      "e\n",
      "l\n",
      "u\n",
      "d\n",
      "o\n"
     ]
    }
   ],
   "source": [
    "cadena = input(\"mete una frase\")\n",
    "for letra in cadena:\n",
    "    print(letra)"
   ]
  },
  {
   "cell_type": "markdown",
   "metadata": {},
   "source": [
    "5. imprimir los números pares del 1 al 100 utilizando bucle for"
   ]
  },
  {
   "cell_type": "code",
   "execution_count": 6,
   "metadata": {},
   "outputs": [
    {
     "name": "stdout",
     "output_type": "stream",
     "text": [
      "2\n",
      "4\n",
      "6\n",
      "8\n",
      "10\n",
      "12\n",
      "14\n",
      "16\n",
      "18\n",
      "20\n",
      "22\n",
      "24\n",
      "26\n",
      "28\n",
      "30\n",
      "32\n",
      "34\n",
      "36\n",
      "38\n",
      "40\n",
      "42\n",
      "44\n",
      "46\n",
      "48\n",
      "50\n",
      "52\n",
      "54\n",
      "56\n",
      "58\n",
      "60\n",
      "62\n",
      "64\n",
      "66\n",
      "68\n",
      "70\n",
      "72\n",
      "74\n",
      "76\n",
      "78\n",
      "80\n",
      "82\n",
      "84\n",
      "86\n",
      "88\n",
      "90\n",
      "92\n",
      "94\n",
      "96\n",
      "98\n",
      "100\n"
     ]
    }
   ],
   "source": [
    "for num in range(1, 101):\n",
    "    if num % 2 == 0:\n",
    "        print(num)"
   ]
  },
  {
   "cell_type": "markdown",
   "metadata": {},
   "source": [
    "6. imprimir números primos del 1 al 50, con bucle for "
   ]
  },
  {
   "cell_type": "code",
   "execution_count": 7,
   "metadata": {},
   "outputs": [
    {
     "name": "stdout",
     "output_type": "stream",
     "text": [
      "2\n",
      "3\n",
      "5\n",
      "7\n",
      "11\n",
      "13\n",
      "17\n",
      "19\n",
      "23\n",
      "29\n",
      "31\n",
      "37\n",
      "41\n",
      "43\n",
      "47\n"
     ]
    }
   ],
   "source": [
    "for num in range(1, 51):\n",
    "\n",
    "    if num > 1:  # --Solo considera números mayores que 1, ya que el 1 no es un número primo\n",
    "\n",
    "        for i in range(2, int(num**0.5) + 1):\n",
    "\n",
    "            if (num % i) == 0: # --En este caso el resultado sería un número no primo, por eso se pone un break\n",
    "                break\n",
    "        else:\n",
    "            print(num)"
   ]
  },
  {
   "cell_type": "markdown",
   "metadata": {},
   "source": [
    "7. calcular el factorial de un número utilizando bucle for\n",
    "factorial = la multiplicación de todos sus elementos"
   ]
  },
  {
   "cell_type": "code",
   "execution_count": 8,
   "metadata": {},
   "outputs": [
    {
     "name": "stdout",
     "output_type": "stream",
     "text": [
      "el factorial de 9 es 362880\n"
     ]
    }
   ],
   "source": [
    "numero_para_factorial = 9\n",
    "\n",
    "\n",
    "producto = 1\n",
    "for numero in range(1, numero_para_factorial + 1):\n",
    "    producto = producto * numero\n",
    "\n",
    "print(f\"el factorial de {numero_para_factorial} es {producto}\")"
   ]
  },
  {
   "cell_type": "markdown",
   "metadata": {},
   "source": [
    "8. juego de adivinar palabras utilizando un bucle for el jugador debe adivinar palabra secreta\n",
    "- numero limitado de intentos\n",
    "- se le proporcionan pistas tras cada intento"
   ]
  },
  {
   "cell_type": "code",
   "execution_count": 11,
   "metadata": {},
   "outputs": [
    {
     "name": "stdout",
     "output_type": "stream",
     "text": [
      "No es correcto. Aquí tienes una pista: La palabra tiene 4 letras\n",
      "No es correcto. Aquí tienes una pista: La palabra empieza por P\n",
      "No es correcto. Aquí tienes una pista: La palabra es un animal\n",
      "Lo siento, ya has agotado tus intentos. La palabra era: pato\n"
     ]
    }
   ],
   "source": [
    "palabra_secreta = \"pato\"\n",
    "\n",
    "intentos_max = 4\n",
    "\n",
    "pistas = [\"La palabra tiene 4 letras\" , \"La palabra empieza por P\" , \"La palabra es un animal\"]\n",
    "\n",
    "for intento in range(1, intentos_max +1):\n",
    "\n",
    "    jugadas = input(\"di una palabra\")\n",
    "\n",
    "    if jugadas.lower() == palabra_secreta:\n",
    "        print(\"Has ganado\")\n",
    "        break\n",
    "\n",
    "    else:\n",
    "        if intento < intentos_max:\n",
    "            print(f\"No es correcto. Aquí tienes una pista: {pistas [intento -1]}\")\n",
    "\n",
    "        else:\n",
    "            print(f\"Lo siento, ya has agotado tus intentos. La palabra era: {palabra_secreta}\")\n",
    "\n",
    "    \n",
    "\n",
    "        "
   ]
  },
  {
   "cell_type": "markdown",
   "metadata": {},
   "source": [
    "### Ejercicios try ...except"
   ]
  },
  {
   "cell_type": "markdown",
   "metadata": {},
   "source": [
    "1. Realizar una búsqueda en una lista y capturar una excepción en caso de valor no encontrado.\n",
    "- Descripción: Solicita al usuario una lista de nombres y un nombre para buscar en la lista. Intenta encontrar el nombre en la lista y utiliza las sentencias try y except para capturar la excepción en caso de que el nombre no sea encontrado."
   ]
  },
  {
   "cell_type": "code",
   "execution_count": 12,
   "metadata": {},
   "outputs": [
    {
     "name": "stdout",
     "output_type": "stream",
     "text": [
      "El nombre Maite fue encontrado en la posición 1.\n"
     ]
    }
   ],
   "source": [
    "try: \n",
    "    \n",
    "    lista_nombres = input(\"Escribe una lista de nombres separados por comas:\").split()\n",
    "\n",
    "    nombre_buscar = input(\"Ingresa el nombre que deseas buscar:\")\n",
    "\n",
    "    indice = lista_nombres.index(nombre_buscar)\n",
    "\n",
    "    print(f\"El nombre {nombre_buscar} fue encontrado en la posición {indice}.\")\n",
    "\n",
    "except:\n",
    "    \n",
    "    print(f\"El nombre {nombre_buscar} no fue encontrado en la lista.\")    "
   ]
  }
 ],
 "metadata": {
  "kernelspec": {
   "display_name": "base",
   "language": "python",
   "name": "python3"
  },
  "language_info": {
   "codemirror_mode": {
    "name": "ipython",
    "version": 3
   },
   "file_extension": ".py",
   "mimetype": "text/x-python",
   "name": "python",
   "nbconvert_exporter": "python",
   "pygments_lexer": "ipython3",
   "version": "3.9.7"
  }
 },
 "nbformat": 4,
 "nbformat_minor": 2
}
