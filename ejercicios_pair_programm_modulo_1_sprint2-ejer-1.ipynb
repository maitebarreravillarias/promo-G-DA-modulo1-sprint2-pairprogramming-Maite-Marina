{
 "cells": [
  {
   "cell_type": "markdown",
   "metadata": {},
   "source": [
    "1. imprimir números del 1 al 5 incluido con bucle for en orden ascendente"
   ]
  },
  {
   "cell_type": "code",
   "execution_count": 1,
   "metadata": {},
   "outputs": [
    {
     "name": "stdout",
     "output_type": "stream",
     "text": [
      "1\n",
      "2\n",
      "3\n",
      "4\n",
      "5\n"
     ]
    }
   ],
   "source": [
    "for num in range(1,6):\n",
    "    print(num)"
   ]
  },
  {
   "cell_type": "markdown",
   "metadata": {},
   "source": [
    "2. calcular suma de los primeros diez números naturales utilizando bucle for "
   ]
  },
  {
   "cell_type": "code",
   "execution_count": 2,
   "metadata": {},
   "outputs": [
    {
     "name": "stdout",
     "output_type": "stream",
     "text": [
      "la suma de los primeros diez números es 55\n"
     ]
    }
   ],
   "source": [
    "suma = 0\n",
    "for num in range(1,11):\n",
    "    suma += num\n",
    "print(f\"la suma de los primeros diez números es {suma}\")"
   ]
  },
  {
   "cell_type": "markdown",
   "metadata": {},
   "source": [
    "3. calcular el producto de los elementos de una lista, utilizando bucle for"
   ]
  },
  {
   "cell_type": "code",
   "execution_count": 4,
   "metadata": {},
   "outputs": [
    {
     "name": "stdout",
     "output_type": "stream",
     "text": [
      "el producto es 6\n"
     ]
    }
   ],
   "source": [
    "lista = [1, 2, 3]\n",
    "\n",
    "\n",
    "producto = 1\n",
    "for i in range(len(lista)):\n",
    "    producto = producto * lista[i]\n",
    "\n",
    "print(f\"el producto es {producto}\")"
   ]
  },
  {
   "cell_type": "markdown",
   "metadata": {},
   "source": [
    "4. imprimir los caracteres de una cadena de texto. dada una cadena utiliza un bucle for"
   ]
  },
  {
   "cell_type": "code",
   "execution_count": 5,
   "metadata": {},
   "outputs": [
    {
     "name": "stdout",
     "output_type": "stream",
     "text": [
      "p\n",
      "l\n",
      "a\n",
      "t\n",
      "e\n",
      "r\n",
      "o\n",
      " \n",
      "e\n",
      "s\n",
      " \n",
      "p\n",
      "e\n",
      "l\n",
      "u\n",
      "d\n",
      "o\n"
     ]
    }
   ],
   "source": [
    "cadena = input(\"mete una frase\")\n",
    "for letra in cadena:\n",
    "    print(letra)"
   ]
  },
  {
   "cell_type": "markdown",
   "metadata": {},
   "source": [
    "5. imprimir los números pares del 1 al 100 utilizando bucle for"
   ]
  },
  {
   "cell_type": "code",
   "execution_count": 6,
   "metadata": {},
   "outputs": [
    {
     "name": "stdout",
     "output_type": "stream",
     "text": [
      "2\n",
      "4\n",
      "6\n",
      "8\n",
      "10\n",
      "12\n",
      "14\n",
      "16\n",
      "18\n",
      "20\n",
      "22\n",
      "24\n",
      "26\n",
      "28\n",
      "30\n",
      "32\n",
      "34\n",
      "36\n",
      "38\n",
      "40\n",
      "42\n",
      "44\n",
      "46\n",
      "48\n",
      "50\n",
      "52\n",
      "54\n",
      "56\n",
      "58\n",
      "60\n",
      "62\n",
      "64\n",
      "66\n",
      "68\n",
      "70\n",
      "72\n",
      "74\n",
      "76\n",
      "78\n",
      "80\n",
      "82\n",
      "84\n",
      "86\n",
      "88\n",
      "90\n",
      "92\n",
      "94\n",
      "96\n",
      "98\n",
      "100\n"
     ]
    }
   ],
   "source": [
    "for num in range(1, 101):\n",
    "    if num % 2 == 0:\n",
    "        print(num)"
   ]
  },
  {
   "cell_type": "markdown",
   "metadata": {},
   "source": [
    "6. imprimir números primos del 1 al 50, con bucle for\n",
    "primo = "
   ]
  },
  {
   "cell_type": "code",
   "execution_count": null,
   "metadata": {},
   "outputs": [],
   "source": [
    "for num in range(1,51):\n",
    "    \n",
    "    if num // * == 0\n",
    "    except \n",
    "    if num % 1 == num\n",
    "    and \n",
    "    if num % num == num "
   ]
  },
  {
   "cell_type": "markdown",
   "metadata": {},
   "source": [
    "7. calcular el factorial de un número utilizando bucle for\n",
    "factorial = la multiplicación de todos sus elementos"
   ]
  },
  {
   "cell_type": "code",
   "execution_count": 8,
   "metadata": {},
   "outputs": [
    {
     "name": "stdout",
     "output_type": "stream",
     "text": [
      "el factorial de 9 es 362880\n"
     ]
    }
   ],
   "source": [
    "numero_para_factorial = 9\n",
    "\n",
    "\n",
    "producto = 1\n",
    "for numero in range(1, numero_para_factorial + 1):\n",
    "    producto = producto * numero\n",
    "\n",
    "print(f\"el factorial de {numero_para_factorial} es {producto}\")"
   ]
  },
  {
   "cell_type": "markdown",
   "metadata": {},
   "source": [
    "8. juego de adivinar palabras utilizando un bucle for\n",
    "el jugador debe adivinar palabra secreta\n",
    "numero limitado de intentos\n",
    "se le proporcionan pistas tras cada intento"
   ]
  },
  {
   "cell_type": "code",
   "execution_count": null,
   "metadata": {},
   "outputs": [],
   "source": [
    "palabra_secreta = \"pato\"\n",
    "\n",
    "intentos_max = 5\n",
    "\n",
    "for intentos in range(1,intentos_max +1):\n",
    "\n",
    "    jugadas = input(\"di una palabra\")\n",
    "    if jugadas == palabra_secreta:\n",
    "        print(\"has ganado\")\n",
    "        break\n",
    "    else:\n",
    "        if letra in jugadas \n",
    "\n",
    "        "
   ]
  },
  {
   "cell_type": "code",
   "execution_count": 17,
   "metadata": {},
   "outputs": [
    {
     "name": "stdout",
     "output_type": "stream",
     "text": [
      "a\n",
      "t\n",
      "o\n"
     ]
    }
   ],
   "source": [
    "palabra_secreta = \"pato\"\n",
    "jugadas = input(\"di una palabra\")\n",
    "for letra in jugadas:\n",
    "    if letra in palabra_secreta:\n",
    "        print(letra)"
   ]
  }
 ],
 "metadata": {
  "kernelspec": {
   "display_name": "base",
   "language": "python",
   "name": "python3"
  },
  "language_info": {
   "codemirror_mode": {
    "name": "ipython",
    "version": 3
   },
   "file_extension": ".py",
   "mimetype": "text/x-python",
   "name": "python",
   "nbconvert_exporter": "python",
   "pygments_lexer": "ipython3",
   "version": "3.9.7"
  }
 },
 "nbformat": 4,
 "nbformat_minor": 2
}
