{
 "cells": [
  {
   "cell_type": "markdown",
   "metadata": {},
   "source": [
    "1. Validar un número de teléfono.\n",
    "- Verificar si una cadena representa un número de teléfono válido en el formato (XXX) XXX-XXXX.\n",
    "- Probad para cada uno de los teléfonos que tenemos en la siguiente lista:"
   ]
  },
  {
   "cell_type": "code",
   "execution_count": 2,
   "metadata": {},
   "outputs": [],
   "source": [
    "import re"
   ]
  },
  {
   "cell_type": "code",
   "execution_count": 3,
   "metadata": {},
   "outputs": [
    {
     "name": "stdout",
     "output_type": "stream",
     "text": [
      "El número (123) 456-7890 es válido\n",
      "El número 178 1890-733 no es válido\n",
      "El número (555) 238-1987 es válido\n",
      "El número (123) 4560-7890 no es válido\n",
      "El número (ABC) 098-1111 no es válido\n"
     ]
    }
   ],
   "source": [
    "telefonos = [\"(123) 456-7890\", \"178 1890-733\", \"(555) 238-1987\", \"(123) 4560-7890\", \"(ABC) 098-1111\"]\n",
    "\n",
    "for telefono in telefonos:\n",
    "    \n",
    "    patron = \"^\\(\\d{3}\\) \\d{3}-\\d{4}$\"\n",
    "    \n",
    "    if re.search(patron , telefono):\n",
    "        print(f\"El número {telefono} es válido\") \n",
    "    \n",
    "    else:\n",
    "        print(f\"El número {telefono} no es válido\")"
   ]
  },
  {
   "cell_type": "markdown",
   "metadata": {},
   "source": [
    "2. Buscar todas las direcciones de correo electrónico en un texto.\n",
    "- Encontrar todas las direcciones e-mail presentes en una cadena de texto"
   ]
  },
  {
   "cell_type": "code",
   "execution_count": 44,
   "metadata": {},
   "outputs": [
    {
     "name": "stdout",
     "output_type": "stream",
     "text": [
      "['user@example.com', 'doe@email.com']\n"
     ]
    }
   ],
   "source": [
    "texto = \"Mi correo es user@example.com. Contacta conmigo en john.doe@email.com\"\n",
    "\n",
    "patron1 = \"[\\w\\d]+@[\\w\\d]+\\.\\w+\"\n",
    "  \n",
    "lista_direcciones = re.findall(patron1 , texto)\n",
    "\n",
    "print(lista_direcciones)"
   ]
  },
  {
   "cell_type": "markdown",
   "metadata": {},
   "source": [
    "3. Validar un código postal.\n",
    "- Verificar si tiene 5 dígitos\n",
    "- Revisar si son válidos"
   ]
  },
  {
   "cell_type": "code",
   "execution_count": 45,
   "metadata": {},
   "outputs": [
    {
     "name": "stdout",
     "output_type": "stream",
     "text": [
      "El código postal 12345 es válido\n",
      "El código postal 190037 no es válido\n",
      "El código postal 78409 es válido\n",
      "El código postal 986449 no es válido\n",
      "El código postal 19305 es válido\n"
     ]
    }
   ],
   "source": [
    "codigos_postales = [\"12345\", \"190037\", \"78409\", \"986449\", \"19305\"]\n",
    "\n",
    "for codigo_postal in codigos_postales:\n",
    "    \n",
    "    patron2 = \"^\\d{5}$\"\n",
    "    \n",
    "    if re.search(patron2 , codigo_postal):\n",
    "        print(f\"El código postal {codigo_postal} es válido\") \n",
    "    \n",
    "    else:\n",
    "        print(f\"El código postal {codigo_postal} no es válido\")"
   ]
  },
  {
   "cell_type": "markdown",
   "metadata": {},
   "source": [
    "4. Encontrar todas las palabras en un texto que comiencen con una vocal"
   ]
  },
  {
   "cell_type": "code",
   "execution_count": 46,
   "metadata": {},
   "outputs": [
    {
     "name": "stdout",
     "output_type": "stream",
     "text": [
      "La lista de palabras que empiezan por vocal es: ['El', 'está', 'Ana', 'una', 'es']\n"
     ]
    }
   ],
   "source": [
    "texto = \"El perro está ladrando. Ana tiene una manzana. La casa es grande.\"\n",
    "\n",
    "lista_texto = texto.split()\n",
    "lista_palabras_vocal = []\n",
    "\n",
    "for palabra in lista_texto:\n",
    "    \n",
    "    patron3 = \"^[aeiouAEIOU]\\w*$\"\n",
    "       \n",
    "    if re.match(patron3 , palabra): \n",
    "            \n",
    "        lista_palabras_vocal.append(palabra)\n",
    "            \n",
    "print(f\"La lista de palabras que empiezan por vocal es: {lista_palabras_vocal}\")\n",
    "\n"
   ]
  },
  {
   "cell_type": "markdown",
   "metadata": {},
   "source": [
    "5. Extraer todos los hashtags presentes en una cadena de texto."
   ]
  },
  {
   "cell_type": "code",
   "execution_count": 48,
   "metadata": {},
   "outputs": [
    {
     "name": "stdout",
     "output_type": "stream",
     "text": [
      "La lista de palabras que tienen un hashtag es: ['#deporte', '#FelizViernes', '#Tech2022']\n"
     ]
    }
   ],
   "source": [
    "texto = \"Me encanta el #deporte. #FelizViernes a todos. Estoy en la conferencia #Tech2022.\"\n",
    "\n",
    "patron4 = \"#\\w+\"\n",
    "  \n",
    "lista_hashtags = re.findall(patron4 , texto)\n",
    "\n",
    "print(f\"La lista de palabras que tienen un hashtag es: {lista_hashtags}\")"
   ]
  },
  {
   "cell_type": "markdown",
   "metadata": {},
   "source": [
    "6. Buscar todos los números decimales en una cadena de texto"
   ]
  },
  {
   "cell_type": "code",
   "execution_count": 49,
   "metadata": {},
   "outputs": [
    {
     "name": "stdout",
     "output_type": "stream",
     "text": [
      "La lista de números decimales es: ['19.99', '25.5', '2.5']\n"
     ]
    }
   ],
   "source": [
    "texto = \"El precio es $19.99. La temperatura es 25.5°C. El índice de inflación es del 2.5%.\"\n",
    "\n",
    "patron5 = \"\\d+\\.\\d+\"\n",
    "  \n",
    "lista_decimales = re.findall(patron5 , texto)\n",
    "\n",
    "print(f\"La lista de números decimales es: {lista_decimales}\")"
   ]
  },
  {
   "cell_type": "markdown",
   "metadata": {},
   "source": [
    "7. Validar un nombre de usuario\n",
    "- Sólo minúsculas, números y guiones bajos"
   ]
  },
  {
   "cell_type": "code",
   "execution_count": 55,
   "metadata": {},
   "outputs": [
    {
     "name": "stdout",
     "output_type": "stream",
     "text": [
      "La lista de usuarios válidos es: ['juan_doe123', 'lola_12', '12marta_lopez']\n"
     ]
    }
   ],
   "source": [
    "lista_usuarios = [\"juan_doe123\", \"lola_12\", \"Aurora_23\", \"12marta_lopez\"]\n",
    "\n",
    "patron6 = \"^[a-z0-9_]+$\"\n",
    "\n",
    "lista_usuarios_validos = []\n",
    "\n",
    "for palabra in lista_usuarios:\n",
    "       \n",
    "    if re.search(patron6 , palabra): \n",
    "            \n",
    "        lista_usuarios_validos.append(palabra)\n",
    "            \n",
    "print(f\"La lista de usuarios válidos es: {lista_usuarios_validos}\")"
   ]
  },
  {
   "cell_type": "markdown",
   "metadata": {},
   "source": [
    "8. Encontrar todas las fechas en formato “dd/mm/aaaa” en un texto"
   ]
  },
  {
   "cell_type": "code",
   "execution_count": 59,
   "metadata": {},
   "outputs": [
    {
     "name": "stdout",
     "output_type": "stream",
     "text": [
      "La lista de fechas correctas es: ['31/12/2022', '01/01/2023', '15/05/1990']\n"
     ]
    }
   ],
   "source": [
    "texto = \"La fecha límite es el 31/12/2022. Hoy es 01/01/2023. Cumpleaños: 15/05/1990.\"\n",
    "\n",
    "patron7 = \"\\d{2}/\\d{2}/\\d{4}\"\n",
    "  \n",
    "lista_fechas_formato = re.findall(patron7 , texto)\n",
    "\n",
    "print(f\"La lista de fechas correctas es: {lista_fechas_formato}\")\n"
   ]
  },
  {
   "cell_type": "markdown",
   "metadata": {},
   "source": [
    "9. Remover caracteres especiales, como signos de puntuación y símbolos"
   ]
  },
  {
   "cell_type": "code",
   "execution_count": 63,
   "metadata": {},
   "outputs": [
    {
     "name": "stdout",
     "output_type": "stream",
     "text": [
      "El texto sin caracteres especiales es: Hola cómo estás Todo bien\n"
     ]
    }
   ],
   "source": [
    "texto = '¡Hola, cómo estás? ¿Todo bien?'\n",
    "\n",
    "patron8 = \"[^\\w\\s]+\"\n",
    "\n",
    "texto = re.sub(patron8 , \"\" , texto)\n",
    "\n",
    "print(f\"El texto sin caracteres especiales es: {texto}\")"
   ]
  },
  {
   "cell_type": "markdown",
   "metadata": {},
   "source": [
    "10. BONUS: Enmascarar información personal\n",
    "- Reemplazar información personal (nombre, dirección) por asteriscos (***)"
   ]
  },
  {
   "cell_type": "code",
   "execution_count": 71,
   "metadata": {},
   "outputs": [
    {
     "name": "stdout",
     "output_type": "stream",
     "text": [
      "El texto enmascarado es: El nombre del cliente es ****** y su dirección es ****** ******.\n"
     ]
    }
   ],
   "source": [
    "texto = 'El nombre del cliente es John Doe y su dirección es 123 Main Street.'\n",
    "\n",
    "patron9 = \"[A-Z]\\w+ [A-Z]\\w+\"\n",
    "\n",
    "patron10 = \"[0-9]\\w+\"\n",
    "\n",
    "texto = re.sub(patron9 , \"******\" , texto)\n",
    "texto = re.sub(patron10 , \"******\" , texto)\n",
    "\n",
    "print(f\"El texto enmascarado es: {texto}\")"
   ]
  }
 ],
 "metadata": {
  "kernelspec": {
   "display_name": "base",
   "language": "python",
   "name": "python3"
  },
  "language_info": {
   "codemirror_mode": {
    "name": "ipython",
    "version": 3
   },
   "file_extension": ".py",
   "mimetype": "text/x-python",
   "name": "python",
   "nbconvert_exporter": "python",
   "pygments_lexer": "ipython3",
   "version": "3.9.0"
  }
 },
 "nbformat": 4,
 "nbformat_minor": 2
}
