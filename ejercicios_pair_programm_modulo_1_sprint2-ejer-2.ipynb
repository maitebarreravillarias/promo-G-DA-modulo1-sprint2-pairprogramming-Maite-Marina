{
 "cells": [
  {
   "cell_type": "markdown",
   "metadata": {},
   "source": [
    "## Pair programming Funciones"
   ]
  },
  {
   "cell_type": "markdown",
   "metadata": {},
   "source": [
    "1. Calcular el área de un círculo.\n",
    "- Descripción: Crea una función llamada calcular_area_circulo que tome el radio como parámetro y devuelva el área del círculo."
   ]
  },
  {
   "cell_type": "code",
   "execution_count": 1,
   "metadata": {},
   "outputs": [],
   "source": [
    "def calcular_area_circulo (radio):\n",
    "    \n",
    "    pi = 3.14\n",
    "    \n",
    "    area = pi * (radio ** 2)\n",
    "    \n",
    "    return area"
   ]
  },
  {
   "cell_type": "code",
   "execution_count": 3,
   "metadata": {},
   "outputs": [
    {
     "name": "stdout",
     "output_type": "stream",
     "text": [
      "El área del círculo con radio 3cm es 28.26cm2\n"
     ]
    }
   ],
   "source": [
    "radio = 3\n",
    "\n",
    "area_circulo = calcular_area_circulo(radio)\n",
    "\n",
    "print(f\"El área del círculo con radio {radio}cm es {area_circulo}cm2\")"
   ]
  },
  {
   "cell_type": "markdown",
   "metadata": {},
   "source": [
    "2. Contar la cantidad de caracteres de una cadena.\n",
    "- Descripción: Crea una función llamada contar_caracteres que tome una cadena como parámetro y devuelva la cantidad de caracteres que contiene."
   ]
  },
  {
   "cell_type": "code",
   "execution_count": 4,
   "metadata": {},
   "outputs": [],
   "source": [
    "def contar_caracteres (cadena):\n",
    "    \n",
    "    caracteres = 0\n",
    "    \n",
    "    for caracter in cadena:\n",
    "        caracteres += 1\n",
    "        \n",
    "    return caracteres\n",
    "        "
   ]
  },
  {
   "cell_type": "code",
   "execution_count": 5,
   "metadata": {},
   "outputs": [
    {
     "name": "stdout",
     "output_type": "stream",
     "text": [
      "En la frase: Platero es pequeño y peludo hay un total de 27 caracteres\n"
     ]
    }
   ],
   "source": [
    "cadena = input(\"Escribe una frase\")\n",
    "\n",
    "caracteres = contar_caracteres(cadena)\n",
    "\n",
    "print(f\"En la frase: {cadena} hay un total de {caracteres} caracteres\")"
   ]
  },
  {
   "cell_type": "markdown",
   "metadata": {},
   "source": [
    "3. Determinar si una cadena es un palíndromo.\n",
    "- Crea una función llamada es_palindromo que tome una cadena como parámetro y devuelva True si es palíndromo o False si no lo es"
   ]
  },
  {
   "cell_type": "code",
   "execution_count": 80,
   "metadata": {},
   "outputs": [],
   "source": [
    "def es_palindromo (cadena):\n",
    "    \n",
    "    import string\n",
    "    \n",
    "    letras = string.punctuation\n",
    "     \n",
    "    cadena = cadena.replace(\" \" , \"\")\n",
    "    \n",
    "    for letra in cadena:\n",
    "        \n",
    "        if letra in letras:\n",
    "            \n",
    "            cadena = cadena.replace(letra , \"\")         \n",
    "    \n",
    "    cadena2 = list(cadena)\n",
    "    \n",
    "    cadena2.reverse()\n",
    "     \n",
    "    cadena_invertida = \"\".join(cadena2)\n",
    "         \n",
    "    palin = (cadena == cadena_invertida)\n",
    "        \n",
    "    return palin\n",
    "        \n",
    "   \n",
    "        "
   ]
  },
  {
   "cell_type": "code",
   "execution_count": 82,
   "metadata": {},
   "outputs": [
    {
     "name": "stdout",
     "output_type": "stream",
     "text": [
      "¿La cadena madam i'm adam es palíndromo? True\n"
     ]
    }
   ],
   "source": [
    "cadena = \"madam i'm adam\"\n",
    "\n",
    "palindromo = es_palindromo(cadena)\n",
    "\n",
    "print(f\"¿La cadena {cadena} es palíndromo? {palindromo}\")"
   ]
  },
  {
   "cell_type": "markdown",
   "metadata": {},
   "source": [
    "4. Calcular el promedio de una lista de números.\n",
    "- Crear una función llamada calcular_promedio que tome una lista de números como parámetro y devuelva el promedio"
   ]
  },
  {
   "cell_type": "code",
   "execution_count": 41,
   "metadata": {},
   "outputs": [],
   "source": [
    "def calcular_promedio (lista):\n",
    "    \n",
    "    suma_num = 0\n",
    "    \n",
    "    for num in lista:\n",
    "        \n",
    "        suma_num += num\n",
    "        \n",
    "    promedio = suma_num / len(lista)\n",
    "    \n",
    "    return promedio"
   ]
  },
  {
   "cell_type": "code",
   "execution_count": 42,
   "metadata": {},
   "outputs": [
    {
     "name": "stdout",
     "output_type": "stream",
     "text": [
      "Con las notas [10, 8, 5, 3] tienes un promedio de 6.5\n"
     ]
    }
   ],
   "source": [
    "lista_numeros = [10 , 8 , 5 , 3]\n",
    "\n",
    "promedio_notas = calcular_promedio(lista_numeros)\n",
    "\n",
    "print(f\"Con las notas {lista_numeros} tienes un promedio de {promedio_notas}\")"
   ]
  },
  {
   "cell_type": "markdown",
   "metadata": {},
   "source": [
    "5. Calcular el interés compuesto.\n",
    "- Crea una función llamada calcular_interes_compuesto\n",
    "- Tiene que tener en cuenta:\n",
    "    - capital_inicial\n",
    "    - tasa_interes\n",
    "    - numero de periodos\n",
    "- Tiene que devolver el beneficio final, después del interés compuesto"
   ]
  },
  {
   "cell_type": "code",
   "execution_count": 50,
   "metadata": {},
   "outputs": [],
   "source": [
    "# Capital final = Capital inicial * (1+tasa_interes) ** numero_periodos\n",
    "\n",
    "def calcular_interes_compuesto (capital_inicial , tasa_interes = 0.2 , numero_periodos = 4):\n",
    "    \n",
    "    capital_final = round(capital_inicial * ( 1 + tasa_interes ) ** numero_periodos , 2)\n",
    "       \n",
    "    return capital_final\n",
    "    \n",
    "    \n",
    "    \n",
    "    "
   ]
  },
  {
   "cell_type": "code",
   "execution_count": 53,
   "metadata": {},
   "outputs": [
    {
     "name": "stdout",
     "output_type": "stream",
     "text": [
      "El capital final es: 7865.2€\n"
     ]
    }
   ],
   "source": [
    "capital_inicial = 7000\n",
    "tasa_interes = 0.06\n",
    "periodos = 2\n",
    "\n",
    "capital_final = calcular_interes_compuesto(capital_inicial , tasa_interes , periodos)\n",
    "\n",
    "print(f\"El capital final es: {capital_final}€\")\n"
   ]
  },
  {
   "cell_type": "markdown",
   "metadata": {},
   "source": [
    "6. Validar si una palabra es un anagrama de otra.\n",
    "- Crear una función llamada es_anagrama que tome dos palabras como parámetros y devuelva True si es anagrama o False si no lo son"
   ]
  },
  {
   "cell_type": "code",
   "execution_count": 83,
   "metadata": {},
   "outputs": [],
   "source": [
    "def es_anagrama (palabra1 , palabra2):\n",
    "    \n",
    "    anagrama = False\n",
    "    \n",
    "    palabra1 = palabra1.strip().lower()\n",
    "    palabra2 = palabra1.strip().lower()\n",
    "     \n",
    "    if len(palabra1) == len(palabra2):\n",
    "        \n",
    "        anagrama = (set(palabra1) == set(palabra2))\n",
    "        \n",
    "    return anagrama\n",
    "    "
   ]
  },
  {
   "cell_type": "code",
   "execution_count": 84,
   "metadata": {},
   "outputs": [
    {
     "name": "stdout",
     "output_type": "stream",
     "text": [
      "¿La amor y la roma son un anagrama? True\n"
     ]
    }
   ],
   "source": [
    "palabra1 = input(\"Escoge una palabra\")\n",
    "palabra2 = input(\"Escoge otra palabra\")\n",
    "\n",
    "anagrama = es_anagrama(\"palabra1\" , \"palabra2\")\n",
    "\n",
    "print(f\"¿La {palabra1} y la {palabra2} son un anagrama? {anagrama}\")"
   ]
  }
 ],
 "metadata": {
  "kernelspec": {
   "display_name": "base",
   "language": "python",
   "name": "python3"
  },
  "language_info": {
   "codemirror_mode": {
    "name": "ipython",
    "version": 3
   },
   "file_extension": ".py",
   "mimetype": "text/x-python",
   "name": "python",
   "nbconvert_exporter": "python",
   "pygments_lexer": "ipython3",
   "version": "3.9.7"
  }
 },
 "nbformat": 4,
 "nbformat_minor": 2
}
