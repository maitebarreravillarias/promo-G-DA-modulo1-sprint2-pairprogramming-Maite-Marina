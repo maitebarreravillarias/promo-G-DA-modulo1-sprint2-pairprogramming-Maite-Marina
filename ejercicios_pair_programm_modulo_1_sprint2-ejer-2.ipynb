{
 "cells": [
  {
   "cell_type": "markdown",
   "metadata": {},
   "source": [
    "## Pair programming Funciones"
   ]
  },
  {
   "cell_type": "markdown",
   "metadata": {},
   "source": [
    "1. Calcular el área de un círculo.\n",
    "- Descripción: Crea una función llamada calcular_area_circulo que tome el radio como parámetro y devuelva el área del círculo."
   ]
  },
  {
   "cell_type": "code",
   "execution_count": 1,
   "metadata": {},
   "outputs": [],
   "source": [
    "def calcular_area_circulo (radio):\n",
    "    \n",
    "    pi = 3.14\n",
    "    \n",
    "    area = pi * (radio ** 2)\n",
    "    \n",
    "    return area"
   ]
  },
  {
   "cell_type": "code",
   "execution_count": 2,
   "metadata": {},
   "outputs": [
    {
     "name": "stdout",
     "output_type": "stream",
     "text": [
      "El área del círculo con radio 3cm es 28.26cm2\n"
     ]
    }
   ],
   "source": [
    "radio = 3\n",
    "\n",
    "area_circulo = calcular_area_circulo(radio)\n",
    "\n",
    "print(f\"El área del círculo con radio {radio}cm es {area_circulo}cm2\")"
   ]
  },
  {
   "cell_type": "markdown",
   "metadata": {},
   "source": [
    "2. Contar la cantidad de caracteres de una cadena.\n",
    "- Descripción: Crea una función llamada contar_caracteres que tome una cadena como parámetro y devuelva la cantidad de caracteres que contiene."
   ]
  },
  {
   "cell_type": "code",
   "execution_count": 3,
   "metadata": {},
   "outputs": [],
   "source": [
    "def contar_caracteres (cadena):\n",
    "    \n",
    "    caracteres = 0\n",
    "    \n",
    "    for caracter in cadena:\n",
    "        caracteres += 1\n",
    "        \n",
    "    return caracteres   "
   ]
  },
  {
   "cell_type": "code",
   "execution_count": 4,
   "metadata": {},
   "outputs": [
    {
     "name": "stdout",
     "output_type": "stream",
     "text": [
      "En la frase: Platero es pequeño hay un total de 18 caracteres\n"
     ]
    }
   ],
   "source": [
    "cadena = input(\"Escribe una frase\")\n",
    "\n",
    "caracteres = contar_caracteres(cadena)\n",
    "\n",
    "print(f\"En la frase: {cadena} hay un total de {caracteres} caracteres\")"
   ]
  },
  {
   "cell_type": "markdown",
   "metadata": {},
   "source": [
    "3. Determinar si una cadena es un palíndromo.\n",
    "- Crea una función llamada es_palindromo que tome una cadena como parámetro y devuelva True si es palíndromo o False si no lo es"
   ]
  },
  {
   "cell_type": "code",
   "execution_count": 5,
   "metadata": {},
   "outputs": [],
   "source": [
    "def es_palindromo (cadena):\n",
    "    \n",
    "    import string\n",
    "    \n",
    "    signos_puntuacion = string.punctuation\n",
    "     \n",
    "    cadena = cadena.lower().replace(\" \" , \"\")\n",
    "    \n",
    "    for letra in cadena:\n",
    "        \n",
    "        if letra in signos_puntuacion: # --Programación defensiva, por si se introduce una frase con signos de puntuación\n",
    "            \n",
    "            cadena = cadena.replace(letra , \"\")         \n",
    "                \n",
    "    palin = (cadena == cadena[::-1])\n",
    "        \n",
    "    return palin"
   ]
  },
  {
   "cell_type": "code",
   "execution_count": 15,
   "metadata": {},
   "outputs": [
    {
     "name": "stdout",
     "output_type": "stream",
     "text": [
      "¿La cadena madam i'm adam es palíndromo? True\n"
     ]
    }
   ],
   "source": [
    "cadena1 = input(\"Introduce la frase a comprobar\")\n",
    "\n",
    "palindromo = es_palindromo(cadena1)\n",
    "\n",
    "print(f\"¿La cadena {cadena1} es palíndromo? {palindromo}\")"
   ]
  },
  {
   "cell_type": "markdown",
   "metadata": {},
   "source": [
    "4. Calcular el promedio de una lista de números.\n",
    "- Crear una función llamada calcular_promedio que tome una lista de números como parámetro y devuelva el promedio"
   ]
  },
  {
   "cell_type": "code",
   "execution_count": 7,
   "metadata": {},
   "outputs": [],
   "source": [
    "def calcular_promedio (lista):\n",
    "    \n",
    "    suma_num = 0\n",
    "    \n",
    "    for num in lista:\n",
    "        \n",
    "        suma_num += num\n",
    "        \n",
    "    promedio = suma_num / len(lista)\n",
    "    \n",
    "    return promedio"
   ]
  },
  {
   "cell_type": "code",
   "execution_count": 8,
   "metadata": {},
   "outputs": [
    {
     "name": "stdout",
     "output_type": "stream",
     "text": [
      "Con las notas [10, 8, 5, 3] tienes un promedio de 6.5\n"
     ]
    }
   ],
   "source": [
    "lista_numeros = [10 , 8 , 5 , 3]\n",
    "\n",
    "promedio_notas = calcular_promedio(lista_numeros)\n",
    "\n",
    "print(f\"Con las notas {lista_numeros} tienes un promedio de {promedio_notas}\")"
   ]
  },
  {
   "cell_type": "markdown",
   "metadata": {},
   "source": [
    "5. Calcular el interés compuesto.\n",
    "- Crea una función llamada calcular_interes_compuesto\n",
    "- Tiene que tener en cuenta:\n",
    "    - capital_inicial\n",
    "    - tasa_interes\n",
    "    - numero de periodos\n",
    "- Tiene que devolver el beneficio final, después del interés compuesto"
   ]
  },
  {
   "cell_type": "code",
   "execution_count": 9,
   "metadata": {},
   "outputs": [],
   "source": [
    "# Capital final = Capital inicial * (1+tasa_interes) ** numero_periodos\n",
    "\n",
    "def calcular_interes_compuesto (capital_inicial , tasa_interes = 0.2 , numero_periodos = 4):\n",
    "    \n",
    "    capital_final = round(capital_inicial * ( 1 + tasa_interes ) ** numero_periodos , 2)\n",
    "       \n",
    "    return capital_final   "
   ]
  },
  {
   "cell_type": "code",
   "execution_count": 10,
   "metadata": {},
   "outputs": [
    {
     "name": "stdout",
     "output_type": "stream",
     "text": [
      "El capital final es: 7865.2€\n"
     ]
    }
   ],
   "source": [
    "capital_inicial = 7000\n",
    "tasa_interes = 0.06\n",
    "periodos = 2\n",
    "\n",
    "capital_final = calcular_interes_compuesto(capital_inicial , tasa_interes , periodos)\n",
    "\n",
    "print(f\"El capital final es: {capital_final}€\")\n"
   ]
  },
  {
   "cell_type": "markdown",
   "metadata": {},
   "source": [
    "6. Validar si una palabra es un anagrama de otra.\n",
    "- Crear una función llamada es_anagrama que tome dos palabras como parámetros y devuelva True si es anagrama o False si no lo son"
   ]
  },
  {
   "cell_type": "code",
   "execution_count": 11,
   "metadata": {},
   "outputs": [],
   "source": [
    "def es_anagrama (palabra1 , palabra2):\n",
    "    \n",
    "    anagrama = False\n",
    "    \n",
    "    palabra1 = palabra1.strip().lower()\n",
    "    palabra2 = palabra1.strip().lower()\n",
    "     \n",
    "    if len(palabra1) == len(palabra2):\n",
    "        \n",
    "        anagrama = (set(palabra1) == set(palabra2))\n",
    "        \n",
    "    return anagrama   "
   ]
  },
  {
   "cell_type": "code",
   "execution_count": 16,
   "metadata": {},
   "outputs": [
    {
     "name": "stdout",
     "output_type": "stream",
     "text": [
      "¿La palabra amor y la palabra mora son un anagrama? True\n"
     ]
    }
   ],
   "source": [
    "palabra1 = input(\"Escoge una palabra\")\n",
    "palabra2 = input(\"Escoge otra palabra\")\n",
    "\n",
    "anagrama = es_anagrama(\"palabra1\" , \"palabra2\")\n",
    "\n",
    "print(f\"¿La palabra {palabra1} y la palabra {palabra2} son un anagrama? {anagrama}\")"
   ]
  },
  {
   "cell_type": "markdown",
   "metadata": {},
   "source": [
    "7. Validar si una cadena de texto es un isograma.\n",
    "- Crea una función llamada es_isograma que tome una cadena de texto como parámetro y devuelva True si es un isograma. En caso contrario, devuelve False.\n",
    "- ¿Qué es un isograma? Una palabra que no contiene letras repetidas."
   ]
  },
  {
   "cell_type": "code",
   "execution_count": 17,
   "metadata": {},
   "outputs": [],
   "source": [
    "def es_isograma (cadena):\n",
    "    \n",
    "    isograma = True\n",
    "    \n",
    "    cadena = cadena.lower().strip()\n",
    "    \n",
    "    for letra in cadena:\n",
    "        \n",
    "        if cadena.count(letra) > 1:\n",
    "            isograma = False\n",
    "            return isograma\n",
    "        \n",
    "    return isograma\n",
    "            "
   ]
  },
  {
   "cell_type": "code",
   "execution_count": 19,
   "metadata": {},
   "outputs": [
    {
     "name": "stdout",
     "output_type": "stream",
     "text": [
      "¿La palabra gato es un isograma? True\n"
     ]
    }
   ],
   "source": [
    "cadena2 = input(\"Escriba una palabra para saber si es un isograma\")\n",
    "\n",
    "print(f\"¿La palabra {cadena2} es un isograma? {es_isograma(cadena2)}\")"
   ]
  },
  {
   "cell_type": "markdown",
   "metadata": {},
   "source": [
    "8. Concatenar múltiples cadenas de texto\n",
    "- Crea una función llamada concatenar_cadenas que tome una cantidad variable de cadenas de texto como argumentos y devuelva una única cadena que contenga la concatenación de todas las cadenas ingresadas."
   ]
  },
  {
   "cell_type": "code",
   "execution_count": 20,
   "metadata": {},
   "outputs": [],
   "source": [
    "def concatenar_cadenas (*arg):\n",
    "    \n",
    "    concatenacion = \"\"\n",
    "    \n",
    "    for cadena in arg:\n",
    "        \n",
    "        concatenacion += cadena\n",
    "    \n",
    "    return concatenacion       "
   ]
  },
  {
   "cell_type": "code",
   "execution_count": 21,
   "metadata": {},
   "outputs": [
    {
     "name": "stdout",
     "output_type": "stream",
     "text": [
      "Frase 1: Hola, ¿qué tal? \n",
      "Frase 2: Esto es una prueba \n",
      "Frase 3: de concatenación.\n",
      "Frase concatenada: Hola, ¿qué tal? Esto es una prueba de concatenación.\n"
     ]
    }
   ],
   "source": [
    "cadena3 = input(\"Escribe una frase\")\n",
    "cadena4 = input(\"Escribe otra frase\")\n",
    "cadena5 = input(\"Escribe la última frase\")\n",
    "\n",
    "cadena_concatenada = concatenar_cadenas(cadena3 , cadena4 , cadena5)\n",
    "\n",
    "print(f\"Frase 1: {cadena3}\")\n",
    "print(f\"Frase 2: {cadena4}\")\n",
    "print(f\"Frase 3: {cadena5}\")\n",
    "print(f\"Frase concatenada: {cadena_concatenada}\")"
   ]
  },
  {
   "cell_type": "markdown",
   "metadata": {},
   "source": [
    "9. Crear un diccionario con información de una persona.\n",
    "- Crea una función llamada crear_persona que tome como argumentos clave-valor los datos de una persona, como nombre, edad, ciudad, etc., y devuelva un diccionario con toda la información ingresada."
   ]
  },
  {
   "cell_type": "code",
   "execution_count": 22,
   "metadata": {},
   "outputs": [],
   "source": [
    "def crear_persona (nombre = None , edad = None , ciudad = None , **kwarg):\n",
    "    \n",
    "    info_persona = {\"nombre\" : nombre , \"edad\" : edad , \"ciudad\" : ciudad}\n",
    "    \n",
    "    info_persona.update(kwarg)\n",
    "    \n",
    "    return info_persona"
   ]
  },
  {
   "cell_type": "code",
   "execution_count": 24,
   "metadata": {},
   "outputs": [
    {
     "name": "stdout",
     "output_type": "stream",
     "text": [
      "El diccionario con los datos de la persona es:\n",
      "{'nombre': 'Furgencia', 'edad': 37, 'ciudad': 'Madrid', 'hobby': 'Esquiar', 'otros_datos': 'Diestra'}\n"
     ]
    }
   ],
   "source": [
    "ficha_furgencia = crear_persona(nombre = \"Furgencia\" , edad = 37 , ciudad = \"Madrid\" , hobby = \"Esquiar\" , otros_datos = \"Diestra\")\n",
    "\n",
    "print(f\"El diccionario con los datos de la persona es:\")\n",
    "print(f\"{ficha_furgencia}\")"
   ]
  },
  {
   "cell_type": "markdown",
   "metadata": {},
   "source": [
    "10. Encontrar el número que falta en una lista ordenada de números consecutivos.\n",
    "- Crea una función llamada encontrar_numero_faltante que tome una lista de números consecutivos (del 1 al N, sin repetir) con un número faltante y devuelva ese número faltante."
   ]
  },
  {
   "cell_type": "code",
   "execution_count": 52,
   "metadata": {},
   "outputs": [],
   "source": [
    "def encontrar_numero_faltante (lista):\n",
    "    \n",
    "    lista_consecutivos_real = [num for num in range(1 , len(lista) + 2)] # --Le sumamos 2 al rango 1) Para compensar el número que falta y 2) Porque queremos que salgan todos los números que deberían estar\n",
    "    \n",
    "    falta_set = set(lista_consecutivos_real).difference(set(lista))\n",
    "    falta = list(falta_set)[0]\n",
    "    \n",
    "    return falta"
   ]
  },
  {
   "cell_type": "code",
   "execution_count": 55,
   "metadata": {},
   "outputs": [
    {
     "name": "stdout",
     "output_type": "stream",
     "text": [
      "En la lista [1, 2, 4, 5, 6] nos falta el número 3\n"
     ]
    }
   ],
   "source": [
    "lista_consecutivos = [1 , 2 , 4 , 5 , 6]\n",
    "\n",
    "falta = encontrar_numero_faltante(lista_consecutivos)\n",
    "\n",
    "print(f\"En la lista {lista_consecutivos} nos falta el número {falta}\")"
   ]
  },
  {
   "cell_type": "markdown",
   "metadata": {},
   "source": [
    "11. Encontrar el elemento duplicado en una lista de números.\n",
    "- Crea una función llamada encontrar_duplicado que tome una lista de números enteros y devuelva el elemento que está duplicado en la lista."
   ]
  },
  {
   "cell_type": "code",
   "execution_count": 56,
   "metadata": {},
   "outputs": [],
   "source": [
    "def encontrar_duplicado (lista):\n",
    "    \n",
    "    lista_no_duplicados = []\n",
    "    \n",
    "    for num in lista:\n",
    "    \n",
    "        if num in lista_no_duplicados:\n",
    "            return num\n",
    "        \n",
    "        else:\n",
    "            lista_no_duplicados.append(num)"
   ]
  },
  {
   "cell_type": "code",
   "execution_count": 57,
   "metadata": {},
   "outputs": [
    {
     "name": "stdout",
     "output_type": "stream",
     "text": [
      "En la lista [1, 2, 3, 3, 4, 5], el número duplicado es 3\n"
     ]
    }
   ],
   "source": [
    "lista_duplicados = [ 1 , 2 , 3 , 3 , 4 , 5]\n",
    "\n",
    "print(f\"En la lista {lista_duplicados}, el número duplicado es {encontrar_duplicado(lista_duplicados)}\")"
   ]
  }
 ],
 "metadata": {
  "kernelspec": {
   "display_name": "base",
   "language": "python",
   "name": "python3"
  },
  "language_info": {
   "codemirror_mode": {
    "name": "ipython",
    "version": 3
   },
   "file_extension": ".py",
   "mimetype": "text/x-python",
   "name": "python",
   "nbconvert_exporter": "python",
   "pygments_lexer": "ipython3",
   "version": "3.9.7"
  }
 },
 "nbformat": 4,
 "nbformat_minor": 2
}
